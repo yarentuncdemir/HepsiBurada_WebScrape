{
 "cells": [
  {
   "cell_type": "code",
   "execution_count": 69,
   "metadata": {},
   "outputs": [],
   "source": [
    "import requests\n",
    "from bs4 import BeautifulSoup\n",
    "import time\n",
    "import pandas as pd \n",
    "import csv\n",
    "import re"
   ]
  },
  {
   "cell_type": "code",
   "execution_count": 3,
   "metadata": {},
   "outputs": [],
   "source": [
    "header = {'User-Agent': 'Mozilla/5.0 (Windows NT 10.0; WOW64) AppleWebKit/537.36 (KHTML, like Gecko) Chrome/91.0.4472.114 Safari/537.36'}"
   ]
  },
  {
   "cell_type": "code",
   "execution_count": 4,
   "metadata": {},
   "outputs": [],
   "source": [
    "url ='https://www.hepsiburada.com/laptop-notebook-dizustu-bilgisayarlar-c-98'"
   ]
  },
  {
   "cell_type": "code",
   "execution_count": 5,
   "metadata": {},
   "outputs": [],
   "source": [
    "r = requests.get(url, headers=header)"
   ]
  },
  {
   "cell_type": "code",
   "execution_count": 6,
   "metadata": {},
   "outputs": [],
   "source": [
    "soup = BeautifulSoup(r.content, 'lxml')\n",
    "st1=soup.find(\"div\",attrs={\"id\":\"ProductList\"})\n",
    "st2=st1.find(\"ul\",attrs={\"id\":\"1\"})\n",
    "st3=st2.find_all(\"div\",attrs={\"class\":\"moria-ProductCard-joawUM\"})"
   ]
  },
  {
   "cell_type": "code",
   "execution_count": 111,
   "metadata": {},
   "outputs": [],
   "source": [
    "names=[] \n",
    "prices=[] \n",
    "stars=[]\n",
    "\n",
    "for info in st3:\n",
    "    link=info.a.get(\"href\")\n",
    "    r1=requests.get(link,headers=header)\n",
    "    soup1=BeautifulSoup(r1.content,\"lxml\")\n",
    "    try:\n",
    "        name=soup1.find(\"h1\",attrs={\"itemprop\":\"name\"})\n",
    "    except:\n",
    "        name=\"None\"\n",
    "    try:\n",
    "        price=soup1.find(\"div\",attrs={\"class\":\"extra-discount-price\"})\n",
    "        \n",
    "    except:\n",
    "        price=\"None\"\n",
    "    try:\n",
    "        star=soup1.find(\"span\",attrs={\"class\":\"rating-star\"}).text\n",
    "    except:\n",
    "        star:\"None\"\n",
    "            \n",
    "    names.append(name.text.strip('\\r\\n'))\n",
    "    prices.append(price.text.strip('\\r\\n'))\n",
    "    stars.append(star)\n",
    "            \n",
    "    \n",
    "    #if None in (name, price, star):\n",
    "        #continue\n",
    "    time.sleep(1)\n",
    "    "
   ]
  },
  {
   "cell_type": "code",
   "execution_count": 112,
   "metadata": {},
   "outputs": [],
   "source": [
    "df = pd.DataFrame({'Product Name':names,'Price':prices,'Rating':stars}) \n",
    "df.to_csv('products.csv', index=False, encoding='utf-8')"
   ]
  },
  {
   "cell_type": "code",
   "execution_count": 113,
   "metadata": {},
   "outputs": [
    {
     "data": {
      "text/html": [
       "<div>\n",
       "<style scoped>\n",
       "    .dataframe tbody tr th:only-of-type {\n",
       "        vertical-align: middle;\n",
       "    }\n",
       "\n",
       "    .dataframe tbody tr th {\n",
       "        vertical-align: top;\n",
       "    }\n",
       "\n",
       "    .dataframe thead th {\n",
       "        text-align: right;\n",
       "    }\n",
       "</style>\n",
       "<table border=\"1\" class=\"dataframe\">\n",
       "  <thead>\n",
       "    <tr style=\"text-align: right;\">\n",
       "      <th></th>\n",
       "      <th>Product Name</th>\n",
       "      <th>Price</th>\n",
       "      <th>Rating</th>\n",
       "    </tr>\n",
       "  </thead>\n",
       "  <tbody>\n",
       "    <tr>\n",
       "      <th>0</th>\n",
       "      <td>Monster Abra A7 V11.5 Intel Core i7 11...</td>\n",
       "      <td>14.106,55 TL</td>\n",
       "      <td>4,7\\r\\n</td>\n",
       "    </tr>\n",
       "    <tr>\n",
       "      <th>1</th>\n",
       "      <td>HP 14S-FQ0034NT AMD Ryzen 5 4500U 8GB ...</td>\n",
       "      <td>4.598,99 TL</td>\n",
       "      <td>3,9\\r\\n</td>\n",
       "    </tr>\n",
       "    <tr>\n",
       "      <th>2</th>\n",
       "      <td>Asus TUF FX506LI-HN085 Intel Core i5 1...</td>\n",
       "      <td>8.299,00 TL</td>\n",
       "      <td>4,5\\r\\n</td>\n",
       "    </tr>\n",
       "    <tr>\n",
       "      <th>3</th>\n",
       "      <td>Lenovo V15-IIL Intel Core i5 1035G1 8G...</td>\n",
       "      <td>5.998,99 TL</td>\n",
       "      <td>4,7\\r\\n</td>\n",
       "    </tr>\n",
       "    <tr>\n",
       "      <th>4</th>\n",
       "      <td>Lenovo IdeaPad Gaming 3 AMD Ryzen 5 46...</td>\n",
       "      <td>7.649,00 TL</td>\n",
       "      <td>4,8\\r\\n</td>\n",
       "    </tr>\n",
       "  </tbody>\n",
       "</table>\n",
       "</div>"
      ],
      "text/plain": [
       "                                        Product Name         Price  \\\n",
       "0          Monster Abra A7 V11.5 Intel Core i7 11...  14.106,55 TL   \n",
       "1          HP 14S-FQ0034NT AMD Ryzen 5 4500U 8GB ...   4.598,99 TL   \n",
       "2          Asus TUF FX506LI-HN085 Intel Core i5 1...   8.299,00 TL   \n",
       "3          Lenovo V15-IIL Intel Core i5 1035G1 8G...   5.998,99 TL   \n",
       "4          Lenovo IdeaPad Gaming 3 AMD Ryzen 5 46...   7.649,00 TL   \n",
       "\n",
       "                    Rating  \n",
       "0  4,7\\r\\n                  \n",
       "1  3,9\\r\\n                  \n",
       "2  4,5\\r\\n                  \n",
       "3  4,7\\r\\n                  \n",
       "4  4,8\\r\\n                  "
      ]
     },
     "execution_count": 113,
     "metadata": {},
     "output_type": "execute_result"
    }
   ],
   "source": [
    "df.head()"
   ]
  },
  {
   "cell_type": "code",
   "execution_count": null,
   "metadata": {},
   "outputs": [],
   "source": []
  }
 ],
 "metadata": {
  "kernelspec": {
   "display_name": "Python 3",
   "language": "python",
   "name": "python3"
  },
  "language_info": {
   "codemirror_mode": {
    "name": "ipython",
    "version": 3
   },
   "file_extension": ".py",
   "mimetype": "text/x-python",
   "name": "python",
   "nbconvert_exporter": "python",
   "pygments_lexer": "ipython3",
   "version": "3.8.5"
  }
 },
 "nbformat": 4,
 "nbformat_minor": 4
}
